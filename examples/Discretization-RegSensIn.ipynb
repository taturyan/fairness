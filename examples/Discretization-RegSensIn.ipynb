{
 "cells": [
  {
   "cell_type": "code",
   "execution_count": 1,
   "metadata": {},
   "outputs": [],
   "source": [
    "import Discretization\n",
    "from Discretization import RegSensIn\n",
    "\n",
    "import numpy as np\n",
    "from scipy.special import softmax\n",
    "from sklearn.linear_model import LinearRegression\n",
    "import matplotlib.pyplot as plt"
   ]
  },
  {
   "cell_type": "markdown",
   "metadata": {},
   "source": [
    "### Functions"
   ]
  },
  {
   "cell_type": "code",
   "execution_count": 2,
   "metadata": {},
   "outputs": [],
   "source": [
    "def gen_S(X, thr=0):\n",
    "    N = len(X)\n",
    "    S = np.zeros(N)\n",
    "    S[X[:, 0] < thr] = -1\n",
    "    S[X[:, 0] >= thr] = 1\n",
    "    return S\n",
    "\n",
    "def gen_X(N, thr=0, n_ftr=3):\n",
    "    X = np.random.normal(0, 1, (N, n_ftr))\n",
    "    S = np.zeros(N)\n",
    "    S[X[:, 0] < thr] = -1\n",
    "    S[X[:, 0] >= thr] = 1\n",
    "    S = S[:, np.newaxis]\n",
    "    X = np.append(X, S, axis=1)\n",
    "    return X\n",
    "    \n",
    "def gen_y(X):\n",
    "    N, n_ftr = X.shape\n",
    "    return np.dot(X, np.ones(n_ftr) * 3) + np.random.normal(0, 1, N)  \n",
    "\n",
    "def plot_pred_dist(model, X, data = 'test (out of sample)', fair=True, sens_index=-1):   \n",
    "    \n",
    "    y_pred = model.predict(X)\n",
    "\n",
    "    plt.figure('1')\n",
    "    plt.hist(y_pred[X[:, sens_index] == -1], label='s=-1', density=True, stacked=True, bins=20)\n",
    "    plt.hist(y_pred[X[:, sens_index] == 1], label='s=+1', alpha=0.3, density=True, stacked=True, bins=20)\n",
    "    \n",
    "    if fair:\n",
    "        plt.title('Distribution of prediction on '+ str(data) +' data with fairness adjustment')\n",
    "    else:\n",
    "        plt.title('Distribution of prediction on '+ str(data) +' data without fairness adjustment')\n",
    "        \n",
    "    plt.legend()"
   ]
  },
  {
   "cell_type": "markdown",
   "metadata": {},
   "source": [
    "### Data generation."
   ]
  },
  {
   "cell_type": "code",
   "execution_count": 3,
   "metadata": {},
   "outputs": [],
   "source": [
    "N_train = 500\n",
    "X_train = gen_X(N_train)\n",
    "y_train = gen_y(X_train)"
   ]
  },
  {
   "cell_type": "code",
   "execution_count": 4,
   "metadata": {},
   "outputs": [],
   "source": [
    "N_unlab = 1000\n",
    "X_unlab = gen_X(N_unlab)"
   ]
  },
  {
   "cell_type": "code",
   "execution_count": 5,
   "metadata": {},
   "outputs": [],
   "source": [
    "N_test = 1000\n",
    "X_test = gen_X(N_test)"
   ]
  },
  {
   "cell_type": "markdown",
   "metadata": {},
   "source": [
    "### Training regression model on labeled data."
   ]
  },
  {
   "cell_type": "code",
   "execution_count": 6,
   "metadata": {},
   "outputs": [
    {
     "data": {
      "text/plain": [
       "LinearRegression(fit_intercept=False)"
      ]
     },
     "execution_count": 6,
     "metadata": {},
     "output_type": "execute_result"
    }
   ],
   "source": [
    "reg = LinearRegression(fit_intercept=False)\n",
    "reg.fit(X_train, y_train)"
   ]
  },
  {
   "cell_type": "markdown",
   "metadata": {},
   "source": [
    "### Training fairness-adjusted regression model on unlabeled data."
   ]
  },
  {
   "cell_type": "code",
   "execution_count": 7,
   "metadata": {},
   "outputs": [],
   "source": [
    "fair_reg = RegSensIn(reg)\n",
    "fair_reg.fit(X_unlab)"
   ]
  },
  {
   "cell_type": "markdown",
   "metadata": {},
   "source": [
    "### Plots"
   ]
  },
  {
   "cell_type": "code",
   "execution_count": 8,
   "metadata": {},
   "outputs": [
    {
     "data": {
      "image/png": "[encoded data removed]",
      "text/plain": [
       "<Figure size 432x288 with 1 Axes>"
      ]
     },
     "metadata": {
      "needs_background": "light"
     },
     "output_type": "display_data"
    }
   ],
   "source": [
    "plot_pred_dist(fair_reg, X_test, data = 'test (out of sample)', fair=True)"
   ]
  },
  {
   "cell_type": "code",
   "execution_count": 9,
   "metadata": {},
   "outputs": [
    {
     "data": {
      "image/png": "[encoded data removed]",
      "text/plain": [
       "<Figure size 432x288 with 1 Axes>"
      ]
     },
     "metadata": {
      "needs_background": "light"
     },
     "output_type": "display_data"
    }
   ],
   "source": [
    "plot_pred_dist(reg, X_test, data = 'test (out of sample)', fair=False)"
   ]
  }
 ],
 "metadata": {
  "kernelspec": {
   "display_name": "Python 3",
   "language": "python",
   "name": "python3"
  },
  "language_info": {
   "codemirror_mode": {
    "name": "ipython",
    "version": 3
   },
   "file_extension": ".py",
   "mimetype": "text/x-python",
   "name": "python",
   "nbconvert_exporter": "python",
   "pygments_lexer": "ipython3",
   "version": "3.6.9"
  }
 },
 "nbformat": 4,
 "nbformat_minor": 4
}
